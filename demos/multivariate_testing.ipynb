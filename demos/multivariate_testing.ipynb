{
 "cells": [
  {
   "cell_type": "code",
   "execution_count": null,
   "id": "febde816",
   "metadata": {},
   "outputs": [],
   "source": [
    "from testing_by_betting.twosample import KernelMMD\n",
    "from scipy.stats import multivariate_normal\n",
    "\n",
    "%load_ext autoreload\n",
    "%autoreload 2"
   ]
  },
  {
   "cell_type": "code",
   "execution_count": null,
   "id": "76b387a0",
   "metadata": {},
   "outputs": [],
   "source": [
    "kernel_mmd = KernelMMD()\n",
    "\n",
    "while not kernel_mmd.reject(): \n",
    "\n",
    "    X1 = multivariate_normal.rvs(mean=[0,0,0], size=1)\n",
    "    X2 = multivariate_normal.rvs(mean=[0,1,0], size=1)\n",
    "    \n",
    "    kernel_mmd.step(X1, X2)    "
   ]
  }
 ],
 "metadata": {
  "kernelspec": {
   "display_name": "Python 3 (ipykernel)",
   "language": "python",
   "name": "python3"
  },
  "language_info": {
   "codemirror_mode": {
    "name": "ipython",
    "version": 3
   },
   "file_extension": ".py",
   "mimetype": "text/x-python",
   "name": "python",
   "nbconvert_exporter": "python",
   "pygments_lexer": "ipython3",
   "version": "3.9.12"
  }
 },
 "nbformat": 4,
 "nbformat_minor": 5
}
