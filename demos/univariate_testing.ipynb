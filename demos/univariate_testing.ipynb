{
 "cells": [
  {
   "cell_type": "code",
   "execution_count": null,
   "id": "a54d23c3",
   "metadata": {},
   "outputs": [],
   "source": [
    "import numpy as np \n",
    "import matplotlib.pyplot as plt \n",
    "import testing_by_betting\n",
    "from scipy.stats import bernoulli\n",
    "\n",
    "%load_ext autoreload\n",
    "%autoreload 2"
   ]
  },
  {
   "cell_type": "code",
   "execution_count": null,
   "id": "a2203ded",
   "metadata": {},
   "outputs": [],
   "source": [
    "import importlib\n",
    "importlib.reload(testing_by_betting)\n",
    "from testing_by_betting.twosample import SingleDimensionONS"
   ]
  },
  {
   "cell_type": "code",
   "execution_count": null,
   "id": "ca6031ee",
   "metadata": {},
   "outputs": [],
   "source": [
    "# Initial bettor \n",
    "bettor = SingleDimensionONS(alpha=0.01)"
   ]
  },
  {
   "cell_type": "code",
   "execution_count": null,
   "id": "a29e8b0c",
   "metadata": {},
   "outputs": [],
   "source": [
    "mean1 = 0.70 \n",
    "mean2 = 0.80 \n",
    "\n",
    "while not bettor.reject_null: \n",
    "\n",
    "    X1 = bernoulli.rvs(p=mean1)\n",
    "    X2 = bernoulli.rvs(p=mean2)    \n",
    "    bettor.step(X1, X2)"
   ]
  },
  {
   "cell_type": "code",
   "execution_count": null,
   "id": "7896cf58",
   "metadata": {},
   "outputs": [],
   "source": [
    "plt.plot(range(len(bettor.wealth_history)), bettor.wealth_history)"
   ]
  },
  {
   "cell_type": "code",
   "execution_count": null,
   "id": "1085cc3c",
   "metadata": {},
   "outputs": [],
   "source": [
    "# Sequences of RVs \n",
    "X1 = bernoulli.rvs(p=0.75, size=500)\n",
    "X2 = bernoulli.rvs(p=0.80, size=500)"
   ]
  }
 ],
 "metadata": {
  "kernelspec": {
   "display_name": "Python 3 (ipykernel)",
   "language": "python",
   "name": "python3"
  },
  "language_info": {
   "codemirror_mode": {
    "name": "ipython",
    "version": 3
   },
   "file_extension": ".py",
   "mimetype": "text/x-python",
   "name": "python",
   "nbconvert_exporter": "python",
   "pygments_lexer": "ipython3",
   "version": "3.9.12"
  }
 },
 "nbformat": 4,
 "nbformat_minor": 5
}
